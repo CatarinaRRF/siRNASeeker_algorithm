{
  "cells": [
    {
      "cell_type": "markdown",
      "metadata": {
        "id": "view-in-github",
        "colab_type": "text"
      },
      "source": [
        "<a href=\"https://colab.research.google.com/github/CatarinaRRF/siRNASeeker_algorithm/blob/main/code/siRNA_Seeker.ipynb\" target=\"_parent\"><img src=\"https://colab.research.google.com/assets/colab-badge.svg\" alt=\"Open In Colab\"/></a>"
      ]
    },
    {
      "cell_type": "markdown",
      "metadata": {
        "id": "2SuMP_V26BCM"
      },
      "source": [
        "# <img src=\"https://raw.githubusercontent.com/CatarinaRRF/siRNA_Seeker/main/static/img/siRNAseeker_preto.png\" >\n",
        "<hr color ='66A80F' size=\"10\">\n",
        "\n",
        "###### <font color=1D2633><b>Automatizando o design de siRNA</B>"
      ]
    },
    {
      "cell_type": "markdown",
      "metadata": {
        "id": "HmV7t6xG9Dum"
      },
      "source": [
        "## <font color=0A0908><b> 01. Introdução</b>"
      ]
    },
    {
      "cell_type": "markdown",
      "source": [
        "Bem-vindo ao siRNA Seeker! Aqui você encontrará uma ferramenta projetada para facilitar a pesquisa e o desenvolvimento no campo da genética e biotecnologia, especificamente na busca por siRNA.\n",
        "\n",
        "### <font color=66A80F> <b> O que o siRNA Seeker é?</b></font>\n",
        "\n",
        "O algoritmo apresentado aqui foi desenvolvido para automatizar o processo de design de siRNA. OS siRNA, ou RNA de interferência pequeno, desempenha um papel crucial na regulação da expressão gênica por meio do silenciamento pós-transcricional de genes. Essa capacidade de manipular processos genéticos utilizando siRNA tem sido fundamental para o avanço de novas tecnologias e aplicações na pesquisa científica.\n",
        "\n",
        "### <font color=66A80F><b>Como Utilizar este Notebook</b> </font>\n",
        "O Google Colab utiliza células para organizar o código e as explicações. Existem dois tipos principais de células:\n",
        "\n",
        "* <b>Células de Código:</b> Contêm comandos de programação que executam o algoritmo.\n",
        "* <b>Células de Texto:</b> Servem para fornecer explicações e instruções sobre o que está acontecendo.\n",
        "</br>\n",
        "Para garantir que o algoritmo funcione corretamente, todas as células de código devem ser executadas na ordem em que aparecem. Isso porque algumas células dependem de comandos que foram executados anteriormente.\n",
        "\n",
        "### <font color=66A80F><b> O que você precisa fazer? </b> </font>\n",
        "\n",
        "> Clique no botão de play ▶ ao lado de todas as células e não pule nenhuma.\n",
        "\n",
        "</br>\n",
        "<hr>\n",
        "⚠️ <b>Atenção!</b> Para evitar erros, <font color=red><b>execute todas as células na ordem em que aparecem no notebook</font></b>. Isso garante que todas as etapas sejam concluídas corretamente e que o algoritmo funcione sem problemas."
      ],
      "metadata": {
        "id": "vKjYyHTvM8fk"
      }
    },
    {
      "cell_type": "markdown",
      "metadata": {
        "id": "THjR_hD19Jmv"
      },
      "source": [
        "## <font color=0A0908><b> 02. Entrada de dados</b>"
      ]
    },
    {
      "cell_type": "markdown",
      "source": [
        "<font size=4><b>📤 Como Fazer Upload de um Arquivo no Google Colab</b></font>\n",
        "\n",
        "Para que o algoritmo funcione corretamente, você precisará **fazer o upload de um arquivo no formato FASTA**.  \n",
        "\n",
        "✅ **Requisitos do arquivo:**  \n",
        "- O arquivo **deve estar no formato `.fasta`**.  \n",
        "- O nome do arquivo **deve ser exatamente** `sequence.fasta`.  \n",
        "\n",
        "📌 **Passos para fazer o upload:**  \n",
        "\n",
        "1. **Localize o botão de upload** no notebook, localizado na aba direita do site. O icone é o seguinte:\n",
        "\n",
        "<center>\n",
        "    <img src=\"data:image/png;base64,iVBORw0KGgoAAAANSUhEUgAAACgAAAAkCAYAAAD7PHgWAAAAAXNSR0IArs4c6QAAAARnQU1BAACxjwv8YQUAAAAJcEhZcwAADsMAAA7DAcdvqGQAAAEMSURBVFhH7dVNasJQEAfw/wtkGUigbnOOurO3iLR+ID1AJU0OYQx6AJHqRm+hOz1HthYSyDKL1AkPSqGapy+lm/lBeI+BTCYziwFjjDHG/pWQ51Xl2eF4QBTHyPNcRr8JITDsD9D1PBiGoZRTlSHPq7Isw2K5/LU4cq4fH+sVNtutjDRH6W9Pn6fybTyu7vPZDK2H1o/3dvt9OZlGKIpCRi6zLAuB76P92KbO135fqYN1njodEb4HME1TRi6jKdA0aCqNoQ4+916qh+4yfLN78jTSwb/EBeriAnVxgbq4QF1KuzhN09IPAyRJIiN6XNdFPIngOE4zu9i2bbyORtWi10U5KBflZIwxVgf4ApL3WnNl2nyuAAAAAElFTkSuQmCC\" width=\"60\"/>\n",
        "</center>\n",
        "\n",
        "2. Clique no botão **“Escolher arquivo”**.  \n",
        "3. Selecione ou arraste seu arquivo `sequence.fasta` do seu computador.  \n",
        "4. Aguarde o carregamento ser concluído.  \n",
        "5. **Não pule essa etapa!** O algoritmo precisa desse arquivo para funcionar corretamente.  \n",
        "\n",
        "⚠️ **Importante:**  \n",
        "Se o nome do arquivo for diferente de `sequence.fasta`, o código pode não reconhecer os dados e gerar erros. Certifique-se de que o nome está correto antes de fazer o upload."
      ],
      "metadata": {
        "id": "dP00hqq9SQlI"
      }
    },
    {
      "cell_type": "markdown",
      "metadata": {
        "id": "HR_j5vxB6CXd"
      },
      "source": [
        "##### <font color=66A80F><b> Preparando ambiente\n",
        "<hr color ='66A80F' size=\"3\">"
      ]
    },
    {
      "cell_type": "markdown",
      "metadata": {
        "id": "46zQ8w756KDB"
      },
      "source": [
        "Instalando bibliotecas necessárias  para o funcionamento do algoritimo.\n",
        "\n",
        "> <b><font size=2 color=red> Clique no botão de play ▶ ao lado de todas as células e não pule nenhuma.\n"
      ]
    },
    {
      "cell_type": "code",
      "source": [
        "pip install requests"
      ],
      "metadata": {
        "colab": {
          "base_uri": "https://localhost:8080/"
        },
        "id": "bjVL7lk7R5kQ",
        "outputId": "6409c5b5-2559-4cac-b1e7-82d5b144c272"
      },
      "execution_count": null,
      "outputs": [
        {
          "output_type": "stream",
          "name": "stdout",
          "text": [
            "Requirement already satisfied: requests in /usr/local/lib/python3.11/dist-packages (2.32.3)\n",
            "Requirement already satisfied: charset-normalizer<4,>=2 in /usr/local/lib/python3.11/dist-packages (from requests) (3.4.1)\n",
            "Requirement already satisfied: idna<4,>=2.5 in /usr/local/lib/python3.11/dist-packages (from requests) (3.10)\n",
            "Requirement already satisfied: urllib3<3,>=1.21.1 in /usr/local/lib/python3.11/dist-packages (from requests) (2.3.0)\n",
            "Requirement already satisfied: certifi>=2017.4.17 in /usr/local/lib/python3.11/dist-packages (from requests) (2025.1.31)\n"
          ]
        }
      ]
    },
    {
      "cell_type": "code",
      "execution_count": null,
      "metadata": {
        "colab": {
          "base_uri": "https://localhost:8080/"
        },
        "id": "xband2Qn54bt",
        "outputId": "5b963584-6080-4b34-dbc5-3dd99a0ba6bb"
      },
      "outputs": [
        {
          "output_type": "stream",
          "name": "stdout",
          "text": [
            "Requirement already satisfied: biopython==1.85 in /usr/local/lib/python3.11/dist-packages (1.85)\n",
            "Requirement already satisfied: numpy in /usr/local/lib/python3.11/dist-packages (from biopython==1.85) (2.0.2)\n"
          ]
        }
      ],
      "source": [
        "pip install biopython==1.85"
      ]
    },
    {
      "cell_type": "code",
      "execution_count": null,
      "metadata": {
        "colab": {
          "base_uri": "https://localhost:8080/"
        },
        "id": "4ky92PK7n66-",
        "outputId": "6f6b369b-5f9c-4aad-813b-b21f003db411"
      },
      "outputs": [
        {
          "output_type": "stream",
          "name": "stdout",
          "text": [
            "Requirement already satisfied: seqfold in /usr/local/lib/python3.11/dist-packages (0.7.18)\n"
          ]
        }
      ],
      "source": [
        "pip install seqfold"
      ]
    },
    {
      "cell_type": "code",
      "source": [
        "pip install ViennaRNA"
      ],
      "metadata": {
        "colab": {
          "base_uri": "https://localhost:8080/"
        },
        "id": "GjpvbQ85Vih_",
        "outputId": "867de363-1d22-4b3e-e86c-4846d709f400"
      },
      "execution_count": null,
      "outputs": [
        {
          "output_type": "stream",
          "name": "stdout",
          "text": [
            "Requirement already satisfied: ViennaRNA in /usr/local/lib/python3.11/dist-packages (2.7.0)\n"
          ]
        }
      ]
    },
    {
      "cell_type": "code",
      "execution_count": null,
      "metadata": {
        "colab": {
          "base_uri": "https://localhost:8080/"
        },
        "id": "gKtHWJrr6g8m",
        "outputId": "f86a39a7-cbb4-448b-d581-8fe1897814c9"
      },
      "outputs": [
        {
          "output_type": "stream",
          "name": "stdout",
          "text": [
            "as bibliotecas foram importadas com sucesso\n"
          ]
        }
      ],
      "source": [
        "# @markdown **Rode esta célula para preparar o ambiente**\n",
        "# Tratamento dos dados\n",
        "import Bio\n",
        "from Bio import Entrez\n",
        "from Bio import SeqIO\n",
        "from Bio.Seq import Seq\n",
        "\n",
        "# Mais\n",
        "import requests\n",
        "import time\n",
        "import xml.etree.ElementTree as ET\n",
        "import json\n",
        "\n",
        "# Filtros\n",
        "import re\n",
        "from Bio.SeqUtils import MeltingTemp as mt\n",
        "from Bio.SeqUtils import gc_fraction\n",
        "from seqfold import dg, fold, Struct\n",
        "import pandas as pd\n",
        "from ViennaRNA import RNA\n",
        "\n",
        "# Blast\n",
        "from Bio.SeqRecord import SeqRecord\n",
        "from Bio.Blast import NCBIWWW\n",
        "\n",
        "# Barra de progresso\n",
        "from tqdm import tqdm\n",
        "import time\n",
        "\n",
        "# Mensagem de Sucesso\n",
        "print('as bibliotecas foram importadas com sucesso')"
      ]
    },
    {
      "cell_type": "markdown",
      "metadata": {
        "id": "oSClBWUW7VLh"
      },
      "source": [
        "##### <font color=66A80F><b> Entrada de dados\n",
        "<hr color ='66A80F' size=\"3\">"
      ]
    },
    {
      "cell_type": "markdown",
      "source": [
        "<font size=2> Funções que determinam como o algoritimo ira ler o arquivo fasta e extrair a sequencia (`entrada_dados`) e identificando de qual gene se trata (`extract_gene_symbol_from_header`)\n",
        "\n",
        "> <b><font size=2 color=red> Clique no botão de play ▶ ao lado de todas as células e não pule nenhuma."
      ],
      "metadata": {
        "id": "Y9TLE8eTU9W6"
      }
    },
    {
      "cell_type": "code",
      "execution_count": null,
      "metadata": {
        "id": "zOA_agjw7njf"
      },
      "outputs": [],
      "source": [
        "def entrada_dados(tipo='fasta'):\n",
        "  if tipo == 'fasta':\n",
        "    # selecionar o arquivo FASTA\n",
        "    nome_arquivo = \"/content/sequence.fasta\"\n",
        "\n",
        "    try:\n",
        "        # Le o arquivo FASTA e armazena as sequencias em uma lista\n",
        "        sequencias = list(SeqIO.parse(nome_arquivo, 'fasta'))\n",
        "\n",
        "        # Verifica se o arquivo nao está vazio\n",
        "        if len(sequencias) > 0:\n",
        "          # Define o nome do arquivo de saída\n",
        "          nome_arquivo_saida = 'meugene.fasta'\n",
        "\n",
        "          # Salva as sequencias no arquivo de saida\n",
        "          SeqIO.write(sequencias, nome_arquivo_saida, 'fasta')\n",
        "          print(f'O arquivo {nome_arquivo} foi salvo como {nome_arquivo_saida}.')\n",
        "\n",
        "        else:\n",
        "          print('O arquivo FASTA está vazio.')\n",
        "    except Exception as e:\n",
        "          print(f'Ocorreu um erro ao ler o arquivo FASTA: {str(e)}')\n",
        "  else: print('pedir valdeir')\n",
        "\n",
        "  return sequencias"
      ]
    },
    {
      "cell_type": "code",
      "source": [
        "def extract_gene_symbol_from_header(header):\n",
        "    # Expressão regular para capturar siglas de genes entre parênteses.\n",
        "    match = re.search(r'\\(([^)]+)\\)', header)\n",
        "    if match:\n",
        "        return match.group(1)\n",
        "    return None\n",
        "\n",
        "def meta_data(sequence, tamanho, autor, form_id):\n",
        "  sequencias = list(SeqIO.parse(sequence, 'fasta'))\n",
        "  # Gene Symbol\n",
        "  header = sequencias[0].description\n",
        "  gene_symbol = extract_gene_symbol_from_header(header)\n",
        "  # RefSeq acenssion number\n",
        "  refseq_numbers = sequencias[0].name\n",
        "  # Original gene Size\n",
        "  gene_size = len(sequencias[0].seq)\n",
        "  # dic\n",
        "  meta = {\n",
        "          'Form_id': form_id, #enter data\n",
        "          'gene_symbols': gene_symbol, #run funciton\n",
        "          'refseq_numbers': refseq_numbers, #run function\n",
        "          'autor':autor, #enter data\n",
        "          'gene_size': gene_size, #run function\n",
        "          'sirna_size':tamanho, #enter data\n",
        "  }\n",
        "  return meta"
      ],
      "metadata": {
        "id": "CYRCLdpvkqWy"
      },
      "execution_count": null,
      "outputs": []
    },
    {
      "cell_type": "markdown",
      "metadata": {
        "id": "ZzHiZn2Q_OFo"
      },
      "source": [
        "> <font size=2 color=66A80F><b> executando a função"
      ]
    },
    {
      "cell_type": "code",
      "execution_count": null,
      "metadata": {
        "colab": {
          "base_uri": "https://localhost:8080/"
        },
        "id": "_tR5CmGF_VMN",
        "outputId": "8bd2c0e7-f04a-4f1f-9f29-19631db2eb37"
      },
      "outputs": [
        {
          "output_type": "stream",
          "name": "stdout",
          "text": [
            "O arquivo /content/sequence.fasta foi salvo como meugene.fasta.\n"
          ]
        },
        {
          "output_type": "execute_result",
          "data": {
            "text/plain": [
              "[SeqRecord(seq=Seq('CTTTTTGGTGTAAATCTGGACTCTAATTCTGTAATATATCAAGGAATCTCGTAA...AAA'), id='NM_004502.4', name='NM_004502.4', description='NM_004502.4 Homo sapiens homeobox B7 (HOXB7), mRNA', dbxrefs=[])]"
            ]
          },
          "metadata": {},
          "execution_count": 8
        }
      ],
      "source": [
        "sequencias = entrada_dados()\n",
        "sequencias"
      ]
    },
    {
      "cell_type": "markdown",
      "metadata": {
        "id": "IaEvHC67-l99"
      },
      "source": [
        "## <font color=0A0908><b> 03. Construção dos possiveis siRNA</b>"
      ]
    },
    {
      "cell_type": "markdown",
      "source": [
        "Em seguida devemos trasformar a sequencia em RNA (`trascrever`) realizada pela função [Bio.Seq.transcribe](https://biopython.org/docs/1.75/api/Bio.Seq.html#Bio.Seq.transcribe) da biblioteca Biopython. Essa função converte a sequência de DNA em RNA, substituindo as bases de timina (T) por uracila (U). Essa transformação é essencial para que possamos analisar corretamente as sequências pois, certos critérios de avaliação analisam a uracila.\n",
        "\n",
        "Após a transcrição, o código procede com a identificação de todas as possíveis sequências de siRNA (`possiveis_siRNA`). O algoritmo então itera sobre a sequência de RNA transcrita, gerando substrings do comprimento especificado, para encontrar todas as possíveis sequências de siRNA que serão analisadas conforme os critérios estabelecidos.\n",
        "\n",
        "Por exemplo, considere a seguinte sequência de RNA transcrita:\n",
        "<font color=66A80F>\n",
        "  <b>\n",
        "    <center>\n",
        "      <code>\n",
        "      123456789</br>AUGGAGUUC\n",
        "      </code>\n",
        "    </center>\n",
        "  </b>\n",
        "</font>\n",
        "\n",
        "E queremos gerar subsequências de tamanho 3 (simulando um siRNA de 3 nucleotídeos para simplificação).\n",
        "\n",
        "A iteração sobre essa sequência de RNA produziria:\n",
        "><font color=66A80F>\n",
        "  <b>\n",
        "  <font color=black> Sequência 1:</font></br>\n",
        "    <center>\n",
        "      <code>\n",
        "      123</br>AUG\n",
        "      </code>\n",
        "    </center>\n",
        "  <font color=black> Sequência 2:</font></br>\n",
        "    <center>\n",
        "      <code>\n",
        "      234</br>UGG\n",
        "      </code>\n",
        "    </center>\n",
        "  </b>\n",
        "  <font color=black> ... </font></br></br>\n",
        "  <font color=black><b> Sequência 7: </b></font></br>\n",
        "    <center>\n",
        "      <code>\n",
        "      789</br>UCU\n",
        "      </code>\n",
        "    </center>\n",
        "</font>\n",
        "\n",
        "<hr>\n",
        "\n",
        "> <b><font size=2 color=red> Clique no botão de play ▶ ao lado de todas as células e não pule nenhuma.\n"
      ],
      "metadata": {
        "id": "AINuEhJ3W35z"
      }
    },
    {
      "cell_type": "markdown",
      "metadata": {
        "id": "MiYu_AdM8mIp"
      },
      "source": [
        "##### <font color=66A80F><b> Trascrevendo em RNA\n",
        "<hr color ='66A80F' size=\"3\">"
      ]
    },
    {
      "cell_type": "markdown",
      "metadata": {
        "id": "advdtr208zPF"
      },
      "source": [
        "<font size=2>Para realizar a análise da sequência de DNA fornecida, utilizaremos a função <font color=66A80F>`transcrever()`</font>, onde, convertera a sequência de DNA em uma sequência de RNA.  \n",
        "> <b><font size=2 color=red> Clique no botão de play ▶ ao lado de todas as células e não pule nenhuma."
      ]
    },
    {
      "cell_type": "code",
      "execution_count": null,
      "metadata": {
        "id": "aWv8Ck0H8nK1"
      },
      "outputs": [],
      "source": [
        "def transcrever(sequencias):\n",
        "    for sequencia in sequencias:\n",
        "        name = sequencia.name\n",
        "\n",
        "     # Converte as letras T para U\n",
        "        sequencia_convertida = Bio.Seq.transcribe(sequencia.seq)\n",
        "        return sequencia_convertida, name\n"
      ]
    },
    {
      "cell_type": "markdown",
      "metadata": {
        "id": "wYcZlGPC9odN"
      },
      "source": [
        "##### <font color=66A80F><b>Achando todas as possiveis sequencias de siRNA\n",
        "<hr color ='66A80F' size=\"3\">"
      ]
    },
    {
      "cell_type": "markdown",
      "metadata": {
        "id": "4JpVGf2j9vfP"
      },
      "source": [
        "<font size=2> Usando a função <b><font color=66A80F>`possiveis_siRNA()`</font></b> o algotimo busca na sequência de RNA por potenciais siRNA de tamanho especifico e as salva em uma lista separada.\n",
        "> <b><font size=2 color=red> Clique no botão de play ▶ ao lado de todas as células e não pule nenhuma."
      ]
    },
    {
      "cell_type": "code",
      "source": [
        "def possiveis_siRNA(dado, tamanho=21):\n",
        "    # definindo variaveis\n",
        "    possiveis_siRNA = []\n",
        "    tuplas = []\n",
        "    # iterando\n",
        "    for index, _ in enumerate(dado):\n",
        "        f = index + tamanho\n",
        "        sequence_p = Seq(dado[index:f])  # convertendo para objeto Seq\n",
        "        possiveis_siRNA.append(str(sequence_p))\n",
        "        tuplas.append((str(sequence_p), f'{index}:{index+tamanho}'))\n",
        "\n",
        "    siRNA = possiveis_siRNA[:-tamanho]\n",
        "\n",
        "    return siRNA, tuplas"
      ],
      "metadata": {
        "id": "ogGqfQjPPJqK"
      },
      "execution_count": null,
      "outputs": []
    },
    {
      "cell_type": "markdown",
      "metadata": {
        "id": "u6JxAWDj-ByQ"
      },
      "source": [
        "##### <font color=66A80F><b> Executando a Função </b>\n"
      ]
    },
    {
      "cell_type": "markdown",
      "source": [
        "> <font size=2>Adicione o tamanho da sequência do siRNA, sendo o padrão recomendado de 21 nucleotídeos. Não insira valores menores que 10, pois isso resultará em erro."
      ],
      "metadata": {
        "id": "vMAXRm7Vp1nh"
      }
    },
    {
      "cell_type": "code",
      "execution_count": null,
      "metadata": {
        "colab": {
          "base_uri": "https://localhost:8080/"
        },
        "id": "LsijAGrBBCDV",
        "outputId": "6fcc58f7-728a-44bf-8521-82a34e07684f"
      },
      "outputs": [
        {
          "output_type": "stream",
          "name": "stdout",
          "text": [
            "\n",
            " * N° de Candidatos:\n",
            " 1342\n"
          ]
        }
      ],
      "source": [
        "Tamanho = 21 # @param {type:\"integer\"} { run: \"auto\" }\n",
        "Tamanho_1 = Tamanho-1\n",
        "\n",
        "a = transcrever(sequencias)\n",
        "name = a[1]\n",
        "sequencia_convertida = a[0]\n",
        "candidates, tuplas = possiveis_siRNA(sequencia_convertida, tamanho=Tamanho)\n",
        "print(f'\\n * N° de Candidatos:\\n {len(candidates)}')"
      ]
    },
    {
      "cell_type": "markdown",
      "metadata": {
        "id": "LA20viEcBQpO"
      },
      "source": [
        "## <font color=0A0908><b> 04. Classificação dos siRNA quando sua funcionalidade</b>"
      ]
    },
    {
      "cell_type": "markdown",
      "metadata": {
        "id": "3R4edzkqCwUo"
      },
      "source": [
        "Após a seleção das sequências possíveis, o algoritmo inicia sua análise aplicando os critérios de otimização estabelecidos por três autores: **Reynolds et al. (2004), Ui-Tei et al. (2004) e Amarzguioui et al.** O usuário pode optar pelo autor cujas diretrizes prefere seguir na determinação da funcionalidade das sequências. Embora existam diferenças entre os critérios utilizados por cada autor, alguns parâmetros são avaliados de forma geral, como **energia livre, conteúdo de GC e temperatura de melting**.\n",
        "\n",
        "Cada critério recebe uma pontuação conforme sua importância dentro do modelo proposto pelo autor correspondente. Essa pontuação é representada pelo **\"score\"**, um parâmetro criado especificamente para este algoritmo que determina a conformidade da sequência analisada. A forma como a pontuação é calculada varia entre os autores, conforme demonstrado nas tabelas abaixo:\n",
        "\n",
        "</br>\n",
        "\n",
        "---\n",
        "\n",
        "**Score para Reynolds et al. (2004)**  \n",
        "\n",
        "| Critério | Score |\n",
        "|----------|---------|\n",
        "| Estabilidade interna (posição 15-19) – pelo menos um A ou G | +2 |\n",
        "| Base na posição 13 ≠ G | +1 |\n",
        "| Base na posição 19 ≠ G ou C | +1 |\n",
        "| Base na posição 19 = A | +1 |\n",
        "| Base na posição 10 = U | +1 |\n",
        "| Base na posição 3 = A | +1 |\n",
        "| Energia livre entre -7.2 e -3.6 kcal/mol | **+2** |\n",
        "| **Pontuação máxima** | **9** |\n",
        "\n",
        "<font size=2><b>No caso de temperature de melting maior que 21.5°C a sequência é eliminada</b></font>\n",
        "\n",
        "</br>\n",
        "\n",
        "---\n",
        "\n",
        "**Score para Ui-Tei et al. (2004)**  \n",
        "\n",
        "| Critério | Score |\n",
        "|----------|---------|\n",
        "| Exatamente 5 C/G nas primeiras 7 bases do sentido | +1 |\n",
        "| Todas as 7 últimas bases do antisenso serem A/U | +1 |\n",
        "| Pelo menos 5 A/U nas 7 últimas bases do antisenso | +2 |\n",
        "| Nenhuma sequência de 9 C/G consecutivos | +1 |\n",
        "| Presença de uma sequência de 9 C/G consecutivos | -2 |\n",
        "| Temperatura de melting < 21°C | **+1** |\n",
        "| **Pontuação máxima** | **6** |\n",
        "| **Pontuação mínima** | **-2** |\n",
        "\n",
        "<font size=2><b>No caso de energia livre fora do intervalo -13 a -7 a sequência é eliminada</b></font>\n",
        "\n",
        "</br>\n",
        "\n",
        "---\n",
        "\n",
        "**Score para Amarzguioui et al.**  \n",
        "\n",
        "| Critério | Score |\n",
        "|----------|---------|\n",
        "| Base na posição 1 ≠ U | +1 |\n",
        "| Base na posição 1 = C ou G | +1 |\n",
        "| Base na posição 6 = A | +1 |\n",
        "| Base na posição 19 ≠ G | +1 |\n",
        "| Base na posição 19 = A ou U | +1 |\n",
        "| Assimetria – mais A/U na extremidade 3' do que na 5' | +1 |\n",
        "| Energia livre entre -7.2 e -3.6 kcal/mol | **+2** |\n",
        "| Temperatura de melting < 21°C | **+1** |\n",
        "| **Pontuação máxima** | **9** |\n",
        "\n",
        "</br>\n",
        "\n",
        "---\n",
        "\n",
        "Os siRNAs candidatos são avaliados de acordo com esses critérios para determinar sua viabilidade. A pontuação final será transformada em percentual e, para garantir que apenas as sequências mais promissoras avancem, somente aquelas que apresentarem uma **conformidade superior a 60%** (pontuação proporcionalmente ajustada) seguirão para as próximas fases do processo.\n"
      ]
    },
    {
      "cell_type": "markdown",
      "metadata": {
        "id": "IyrWq4s4DSGZ"
      },
      "source": [
        "##### <font color=66A80F><b>  Reynolds\n",
        "<hr color ='66A80F' size=\"3\">"
      ]
    },
    {
      "cell_type": "markdown",
      "source": [
        "Reynolds et al. (2004) realizaram uma análise detalhada de 180 siRNAs e os seguintes critérios específicos para otimizar a eficiência desses siRNAs foram determinados:\n",
        "\n",
        "**Características da sequência (Fita Senso)**\n",
        "\n",
        "| Posição | Nucleotídeo Recomendado |\n",
        "| ------- | ----------------------- |\n",
        "| 3       | A                       |\n",
        "| 10      | U                       |\n",
        "| 13      | Exceto G                 |\n",
        "| 19      | Exceto G e C             |\n",
        "| 19      | A                       |\n",
        "\n",
        "**Características que influenciam a termodinâmica**\n",
        "\n",
        "| Critério                                  | Descrição                                                    |\n",
        "| ----------------------------------------- | ------------------------------------------------------------ |\n",
        "| Ausência de repetições invertidas (hairpin) | Sequências com alta Tm favorecem estruturas secundárias (hairpin). Tm < 20ºC |\n",
        "| Estabilidade interna baixa (3+ A/U)       | A extremidade 3' da fita senso (posições 15-19) deve ter A/U para aumentar a eficácia do siRNA |\n",
        "| Baixo conteúdo de GC                      | Conteúdo de GC entre 30% e 52%; |"
      ],
      "metadata": {
        "id": "WfCKCixHjF-H"
      }
    },
    {
      "cell_type": "code",
      "execution_count": null,
      "metadata": {
        "id": "gB07vY3MBd4y"
      },
      "outputs": [],
      "source": [
        "def reynolds (sequence):\n",
        "  score = 0\n",
        "  falha = []\n",
        "  # Instabilidade na position 15 - 19\n",
        "  #----------------------------------#\n",
        "  check_estabilidade = 0\n",
        "  for letra in sequence[14:19]:\n",
        "     if letra == \"A\" or letra == \"G\":\n",
        "        check_estabilidade += 1\n",
        "  if check_estabilidade >= 1:\n",
        "     score += 2\n",
        "  else:\n",
        "     falha.append(str(\"internal stability\"))\n",
        "\n",
        "  # Caracteristicas da Fita\n",
        "  # position 13\n",
        "  #----------------------------------#\n",
        "  if sequence[12] != \"G\":\n",
        "     score += 1\n",
        "  else:\n",
        "     falha.append(str(\"position 13\"))\n",
        "  # position 19\n",
        "  #----------------------------------#\n",
        "  if sequence [18] != \"G\" and sequence [18] != \"C\":\n",
        "     score += 1\n",
        "  else:\n",
        "     falha.append(str(\"position 19\"))\n",
        "  if sequence [18] == \"A\":\n",
        "     score += 1\n",
        "  else:\n",
        "     falha.append(str(\"position 19!= A\"))\n",
        "  # position 10\n",
        "  #----------------------------------#\n",
        "  if sequence [9] == \"U\":\n",
        "     score += 1\n",
        "  else:\n",
        "     falha.append(str(\"position 10\"))\n",
        "\n",
        "  # position 3\n",
        "  #----------------------------------#\n",
        "  if sequence [2] == \"A\":\n",
        "     score += 1\n",
        "  else:\n",
        "     falha.append(str(\"position 3\"))\n",
        "\n",
        "  return score, falha"
      ]
    },
    {
      "cell_type": "markdown",
      "metadata": {
        "id": "OLPQ2PJ-FLLl"
      },
      "source": [
        "##### <font color=66A80F><b>  Ui-Tei\n",
        "<hr color ='66A80F' size=\"3\">\n",
        "\n"
      ]
    },
    {
      "cell_type": "markdown",
      "source": [
        "Ui-Tei et al. (2004) realizaram uma análise de siRNA em diferentes tipos celulares e estabeleceram critérios específicos para otimizar a eficácia desses siRNA. Eles focaram principalmente em características da sequência e estabilidade termodinâmica.\n",
        "\n",
        "**Características da sequência**\n",
        "\n",
        "| Posição | Nucleotídeo Recomendado | Descrição |\n",
        "| ------- | ----------------------- | --------- |\n",
        "| 5' Extremidade da fita antisenso | A/U | A extremidade 5' da fita antisenso deve conter nucleotídeos A/U, </br> relacionada à formação do RISC e ao reconhecimento do RNAm. |\n",
        "| 5' Extremidade da fita senso | G/C | A extremidade 5' da fita senso deve conter nucleotídeos G/C. |\n",
        "| 5' Extremidade da fita antisenso | Pelo menos 5 A/U | A extremidade 5' da fita antisenso deve ter pelo menos cinco </br> nucleotídeos A/U consecutivos de um total de sete. |\n",
        "| Sequência G/C consecutiva | Nenhuma sequência de mais de 9 G/C consecutivos | A sequência não deve ter mais de nove nucleotídeos G/C seguidos. |\n",
        "\n",
        "**Considerações de estabilidade e eficiência**\n",
        "\n",
        "| Critério                               | Descrição                                                                                                                                                  |\n",
        "| -------------------------------------- | ---------------------------------------------------------------------------------------------------------------------------------------------------------- |\n",
        "| Estabilidade interna baixa (ΔGº)      | SiRNA mais eficazes apresentaram ΔGº entre -3,6 a -7,2 kcal/mol. </br> siRNA ineficazes tiveram ΔGº maior que -9,8 kcal/mol.                                 |\n",
        "| Relação com eficiência                 | A estabilidade interna baixa está correlacionada com a maior eficiência funcional do siRNA. </br>SiRNA com ΔGº mais baixo demonstraram maior eficiência no silenciamento. |\n",
        "\n",
        "</br>"
      ],
      "metadata": {
        "id": "3fGUUWUakxOL"
      }
    },
    {
      "cell_type": "code",
      "source": [
        "sequence = 'CUUGGCGGCCGAGAGUAACUU'\n",
        "\n",
        "sequence[:7]"
      ],
      "metadata": {
        "colab": {
          "base_uri": "https://localhost:8080/",
          "height": 35
        },
        "id": "FzmKVwHRjVde",
        "outputId": "d2df64a5-f460-4002-fd52-9a95aa0fa0c6"
      },
      "execution_count": null,
      "outputs": [
        {
          "output_type": "execute_result",
          "data": {
            "text/plain": [
              "'CUUGGCG'"
            ],
            "application/vnd.google.colaboratory.intrinsic+json": {
              "type": "string"
            }
          },
          "metadata": {},
          "execution_count": 13
        }
      ]
    },
    {
      "cell_type": "code",
      "execution_count": null,
      "metadata": {
        "id": "Oztd7pajFPVT"
      },
      "outputs": [],
      "source": [
        "def Ui_Tei (sequence, extremidade=7):\n",
        "  # Variaveis\n",
        "  #----------------------------------#\n",
        "  score = 0\n",
        "  falha = []\n",
        "  antisenso = Seq(sequence).complement_rna()\n",
        "\n",
        "  #Senso\n",
        "  #----------------------------------#\n",
        "  check_senso = 0\n",
        "\n",
        "  for letra in sequence[:extremidade]:\n",
        "      if letra == \"G\" or letra == \"C\":\n",
        "         check_senso += 1\n",
        "  if check_senso > 0:\n",
        "     score += 1\n",
        "  else:\n",
        "     falha.append(str(\"no C/G at the 5' sense end\"))\n",
        "\n",
        "  #Antisenso\n",
        "  #----------------------------------#\n",
        "  check_antisenso = 0\n",
        "\n",
        "  for letra in antisenso[:extremidade]:\n",
        "      if letra == \"A\" or letra == \"U\":\n",
        "         check_antisenso += 1\n",
        "  if check_antisenso > 0:\n",
        "     score += 1\n",
        "  else:\n",
        "     falha.append(str(\"no A/U at the 5' antisense end\"))\n",
        "\n",
        "  # Presença de no minimo 5 A/U nas posições [:7]\n",
        "  #----------------------------------#\n",
        "  check_min_5 = 0\n",
        "\n",
        "  for letra in antisenso[-extremidade:]:\n",
        "      if letra == \"A\" or letra == \"U\":\n",
        "         check_min_5 += 1\n",
        "  if check_min_5 >= 5:\n",
        "     score += 2\n",
        "  else:\n",
        "     falha.append(str(\"Less than 5 A/U in antisense 5\"))\n",
        "\n",
        "  # Mais de 9 repetições\n",
        "  #----------------------------------#\n",
        "  segment_size = 9\n",
        "  check = True\n",
        "\n",
        "  for index in range(len(sequence) - segment_size + 1):\n",
        "        segmento = sequence[index:index + segment_size]\n",
        "        count = 0\n",
        "        for letra in segmento:\n",
        "            if letra == 'C' or letra == 'G':\n",
        "                count += 1\n",
        "        if count >= segment_size:\n",
        "            check = False\n",
        "\n",
        "  if check == True:\n",
        "    score += 1\n",
        "  else:\n",
        "    falha.append(str(\"Repetition of more than 9 C/G in a row\"))\n",
        "    score -= 2\n",
        "\n",
        "  return score, falha"
      ]
    },
    {
      "cell_type": "markdown",
      "metadata": {
        "id": "z7TUgbg8M5xW"
      },
      "source": [
        "##### <font color=66A80F><b>  Amarzguioui\n",
        "<hr color ='66A80F' size=\"3\">"
      ]
    },
    {
      "cell_type": "markdown",
      "source": [
        "Amarzguioui et al. (2005) realizaram uma análise de 46 moléculas de siRNA, complementares a quatro genes, com o objetivo de avaliar a eficiência de knockdown. Após testes, 21 (46%) dos siRNAs atingiram um critério de eficiência de 70%. A partir desse estudo, os autores propuseram critérios específicos que se mostraram eficazes para o design de siRNAs eficientes.\n",
        "\n",
        "**Características da sequência**\n",
        "\n",
        "| Posição | Nucleotídeo Recomendado         | Descrição                                                                                                  |\n",
        "| ------- | ------------------------------- | -------------------------------------------------------------------------------------------------------- |\n",
        "| Posição 1 | Não U                           | A posição 1 não deve conter U para evitar redução na eficiência do siRNA.                                 |\n",
        "| Posição 1 | G ou C                          | A presença de G ou C melhora a formação do duplex, sendo nucleotídeos com ligação forte.                  |\n",
        "| Posição 6 | A                               | A presença de A é importante para a eficiência do siRNA.                                                  |\n",
        "| Posição 19 | Não G                           | A presença de G prejudica a formação do duplex, devendo ser evitada.                                      |\n",
        "| Posição 19 | A ou U                          | A ou U são preferidos nesta posição, pois suas interações mais fracas contribuem para a eficiência.       |\n",
        "\n",
        "**Assimetria das extremidades do duplex**\n",
        "\n",
        "| Critério                          | Descrição                                                                                                  |\n",
        "| ---------------------------------- | -------------------------------------------------------------------------------------------------------- |\n",
        "| Assimetria das extremidades       | A diferença entre A/U nos três pares de bases terminais em qualquer extremidade do duplex deve ser grande. |\n",
        "\n",
        "</br>"
      ],
      "metadata": {
        "id": "RarXytBBlmgc"
      }
    },
    {
      "cell_type": "code",
      "execution_count": null,
      "metadata": {
        "id": "P6iNSGIAM6Mm"
      },
      "outputs": [],
      "source": [
        "def Amarzguioui(sequence):\n",
        "  score = 0\n",
        "  falha = []\n",
        "  check_assimetria_5 = 0\n",
        "  check_assimetria_3 = 0\n",
        "  antisenso = Seq(sequence).complement_rna()\n",
        "\n",
        "  # position 1\n",
        "  #----------------------------------#\n",
        "  if sequence [0] != \"U\":\n",
        "     score += 1\n",
        "  else:\n",
        "     falha.append(str(\"position 1\"))\n",
        "\n",
        "  if sequence [0] == \"C\" and sequence [0] == \"G\":\n",
        "     score += 1\n",
        "  else:\n",
        "     falha.append(str(\"position 1 has no C/G\"))\n",
        "\n",
        "  # position 6\n",
        "  #----------------------------------#\n",
        "  if sequence [5] == \"A\":\n",
        "     score += 1\n",
        "  else:\n",
        "     falha.append(str(\"position 6\"))\n",
        "  # position 19\n",
        "  #----------------------------------#\n",
        "  if sequence [18] != \"G\":\n",
        "     score += 1\n",
        "  else:\n",
        "     falha.append(str(\"position 19 is G\"))\n",
        "\n",
        "  if sequence [18] == \"A\" or sequence [18] == \"U\":\n",
        "     score += 1\n",
        "  else:\n",
        "     falha.append(str(\"position 19 is C/G\"))\n",
        "  # Assimetria\n",
        "  #----------------------------------#\n",
        "  for letra in sequence[:3]:\n",
        "      if letra == \"A\" or letra == \"U\": # baixo\n",
        "         check_assimetria_5 += 1\n",
        "  for letra in antisenso[-3:]:\n",
        "      if letra == \"A\" or letra == \"U\": # alto\n",
        "         check_assimetria_3 += 1\n",
        "  if check_assimetria_3 > check_assimetria_5:\n",
        "     score += 2\n",
        "  else:\n",
        "     falha.append(str(\"asymmetry\"))\n",
        "\n",
        "  return score, falha"
      ]
    },
    {
      "cell_type": "markdown",
      "metadata": {
        "id": "STOIJCNMl_4M"
      },
      "source": [
        "##### <font color=66A80F><b>  Função para a funcionalidade do siRNA\n",
        "<hr color ='66A80F' size=\"3\">"
      ]
    },
    {
      "cell_type": "code",
      "source": [
        "def free_energy(seq1):\n",
        "    seq1_obj = Seq(seq1)\n",
        "    complementary_seq_str = str(seq1_obj.complement())\n",
        "    result = RNA.duplexfold(seq1, complementary_seq_str)\n",
        "    mfe = round(result.energy,3)  # Free energy in kcal/mol\n",
        "\n",
        "    return mfe"
      ],
      "metadata": {
        "id": "uukTc8RqUxlw"
      },
      "execution_count": null,
      "outputs": []
    },
    {
      "cell_type": "code",
      "execution_count": null,
      "metadata": {
        "id": "uoEk40LdmNLB"
      },
      "outputs": [],
      "source": [
        "def siRNA_score (sequence, tuplas,\n",
        "                 autor=['reynolds', 'ui-tei', 'amarzguioui'],\n",
        "                 tm=True, tmmax = 21.5):\n",
        "        \"\"\"\n",
        "        Avalia o score e a conformidade do siRNA com base em diversos parâmetros.\n",
        "\n",
        "        :param sequence: Sequência do siRNA para avaliação.\n",
        "        :param autor: Lista de autores para o método de scoring.\n",
        "        :param tm: Flag para calcular a temperatura de fusão (melt temperature).\n",
        "        :param tmmax: Valor máximo para a temperatura de fusão.\n",
        "        :param tuplas: Lista de tuplas contendo siRNA e suas posições.\n",
        "        :return: Score, lista de falhas, conteúdo GC, energia livre e temperatura de fusão.\n",
        "        \"\"\"\n",
        "        # Definindo variaveis\n",
        "        #--------------------------------------------------------------#\n",
        "        score = 0\n",
        "        falha = []\n",
        "        posicao = 'Não encontrado'\n",
        "\n",
        "        # Conteudo Baixo GC\n",
        "        #--------------------------------------------------------------#\n",
        "        conteudo_gc = round(gc_fraction(sequence)*100, 2)\n",
        "        if 30 <= conteudo_gc <= 52:\n",
        "            score += 1\n",
        "\n",
        "        # tempmelt\n",
        "        #--------------------------------------------------------------#\n",
        "        tm_score = round(mt.Tm_GC(sequence[1:9]), 2)\n",
        "        if autor != 'reynolds':\n",
        "            if 0 < tm_score <= tmmax:\n",
        "                score += 1\n",
        "            else:\n",
        "                falha.append(str(\"tm\"))\n",
        "\n",
        "        # G°\n",
        "        #--------------------------------------------------------------#\n",
        "        energia_livre = free_energy(sequence[1:9])\n",
        "        if autor != 'ui-tei':\n",
        "            if -13 < energia_livre < -7:\n",
        "                score += 2\n",
        "            else:\n",
        "                falha.append(str(\"free energy\"))\n",
        "\n",
        "        # Autores\n",
        "        # Score reynolds total = 10\n",
        "        #--------------------------------------------------------------#\n",
        "        if autor == 'reynolds':\n",
        "            r = reynolds(sequence)\n",
        "            score += r[0]\n",
        "            falha.extend(r[1] if isinstance(r[1], list) else [r[1]])\n",
        "\n",
        "        # Score ui-tei total = 7\n",
        "        #--------------------------------------------------------------#\n",
        "        if autor == 'ui-tei':\n",
        "            u = Ui_Tei(sequence)\n",
        "            score += u[0]\n",
        "            falha.extend(u[1] if isinstance(u[1], list) else [u[1]])\n",
        "\n",
        "        # Score amarzguioui total = 4\n",
        "        #--------------------------------------------------------------#\n",
        "        if autor == 'amarzguioui':\n",
        "            a = Amarzguioui(sequence)\n",
        "            score += a[0]\n",
        "            falha.extend(a[1] if isinstance(a[1], list) else [a[1]])\n",
        "\n",
        "        # Encontrando a posição do siRNA nas tuplas\n",
        "        #--------------------------------------------------------------#\n",
        "        if tuplas:\n",
        "            for seq, pos in tuplas:\n",
        "                if sequence == seq:\n",
        "                    posicao = pos\n",
        "                    break\n",
        "        #--------------------------------------------------------------#\n",
        "        return score, falha, conteudo_gc, energia_livre, tm_score, posicao"
      ]
    },
    {
      "cell_type": "markdown",
      "metadata": {
        "id": "5j8BloLQ7ek5"
      },
      "source": [
        "##### <font color=66A80F><b>Selecionando siRNA funcionais\n",
        "<hr color ='66A80F' size=\"3\"></b>"
      ]
    },
    {
      "cell_type": "code",
      "source": [
        "def filtro_siRNA(sequences, tuplas, conformidade=0.6,\n",
        "                    autor=['reynolds', 'ui-tei', 'amarzguioui'],\n",
        "                    tm=True, tmmax=21.5):\n",
        "        \"\"\"\n",
        "        Filtra e avalia siRNAs com base em parâmetros de conformidade e scoring.\n",
        "\n",
        "        :param sequences: Lista de sequências de siRNA para avaliação.\n",
        "        :param conformidade: Nível de conformidade para filtrar siRNAs.\n",
        "        :param autor: Lista de autores para métodos de scoring.\n",
        "        :param tm: Flag para calcular a temperatura de fusão (melt temperature).\n",
        "        :param tmmax: Valor máximo para a temperatura de fusão.\n",
        "        :param tuplas: Lista de tuplas contendo siRNA e suas posições.\n",
        "        :return: Dados JSON e lista de siRNAs verificados.\n",
        "        \"\"\"\n",
        "        # Definindo Variaveis\n",
        "        # --------------------------------------------------------------#\n",
        "        siRNA_verificados = []\n",
        "        posicao = []\n",
        "        score = []\n",
        "        falha = []\n",
        "        conteudo_gc = []\n",
        "        energia_livre = []\n",
        "        TM_score = []\n",
        "\n",
        "        total_reynolds = 9 * conformidade\n",
        "        total_uitei = 6 * conformidade\n",
        "        total_ama = 10 * conformidade\n",
        "\n",
        "\n",
        "        # Iterador\n",
        "        # --------------------------------------------------------------#\n",
        "        for index, sequence in enumerate(sequences):\n",
        "            # Veficando a qualidade\n",
        "            # ----------------------------------#\n",
        "            resultado = siRNA_score(sequence=sequence, tuplas=tuplas, autor=autor,\n",
        "                                    tm=tm, tmmax=tmmax)\n",
        "\n",
        "            # Exclui RNAs indesejadas\n",
        "            # ----------------------------------#\n",
        "            incluir_siRNA = True\n",
        "\n",
        "            if 30 <= resultado[2] <= 52:\n",
        "                incluir_siRNA = False\n",
        "\n",
        "            if autor == \"reynolds\":\n",
        "                if resultado[0] <= total_reynolds or not (0 < resultado[4] <= tmmax):\n",
        "                    incluir_siRNA = False\n",
        "\n",
        "            if autor == 'ui-tei':\n",
        "              if resultado[0] <= total_uitei or not (-13 < resultado[3] <-7):\n",
        "                    incluir_siRNA = False\n",
        "\n",
        "            if autor == 'amarzguioui':\n",
        "                if resultado[0] <= total_ama:\n",
        "                    incluir_siRNA = False\n",
        "\n",
        "            if incluir_siRNA:\n",
        "                siRNA_verificados.append(sequence)\n",
        "                score.append(resultado[0])\n",
        "                falha.append(resultado[1])\n",
        "                conteudo_gc.append(resultado[2])\n",
        "                energia_livre.append(resultado[3])\n",
        "                TM_score.append(resultado[4])\n",
        "                posicao.append(resultado[5])\n",
        "\n",
        "        # Organizando os resultados por pontuação\n",
        "        resultados = list(zip(siRNA_verificados, score, TM_score, conteudo_gc, energia_livre, falha, posicao))\n",
        "        resultados_ordenados = sorted(resultados, key=lambda x: x[1], reverse=True)[:50]\n",
        "        siRNA_verificados = [resultado[0] for resultado in resultados_ordenados]\n",
        "        score = [resultado[1] for resultado in resultados_ordenados]\n",
        "        TM_score = [resultado[2] for resultado in resultados_ordenados]\n",
        "        conteudo_gc = [resultado[3] for resultado in resultados_ordenados]\n",
        "        energia_livre = [resultado[4] for resultado in resultados_ordenados]\n",
        "        falha = [resultado[5] for resultado in resultados_ordenados]\n",
        "        posicao = [resultado[6] for resultado in resultados_ordenados]\n",
        "\n",
        "        #\"score, falha, conteudo_gc, energia_livre, tm_score, posicao\"\n",
        "\n",
        "        # Preparando dados para JSON\n",
        "        dados_json = [\n",
        "            {\n",
        "                \"Sequencia'\": resultado[0],\n",
        "                \"Pontuacao\": resultado[1],\n",
        "                \"TM\": resultado[2],\n",
        "                \"CG\": resultado[3],\n",
        "                \"AG\": resultado[4],\n",
        "                \"Falhas\": resultado[5],\n",
        "                \"posicao\":resultado[6],\n",
        "            }\n",
        "            for resultado in resultados_ordenados\n",
        "        ]\n",
        "\n",
        "        # Salvando em um arquivo JSON\n",
        "        with open('resultados_siRNA.json', 'w') as arquivo_json:\n",
        "            json.dump(dados_json, arquivo_json, indent=4)\n",
        "\n",
        "        return dados_json, siRNA_verificados"
      ],
      "metadata": {
        "id": "ghKHUwEHB9Qg"
      },
      "execution_count": null,
      "outputs": []
    },
    {
      "cell_type": "markdown",
      "source": [
        "##### <font color=66A80F><b>Resultado\n",
        "<hr color ='66A80F' size=\"3\"></b>"
      ],
      "metadata": {
        "id": "BGCVqVDmmkpy"
      }
    },
    {
      "cell_type": "code",
      "execution_count": null,
      "metadata": {
        "id": "6gDIrdCHEutN",
        "colab": {
          "base_uri": "https://localhost:8080/",
          "height": 380
        },
        "cellView": "form",
        "outputId": "48eb4584-ad3d-4179-b4a1-8cc98309101b"
      },
      "outputs": [
        {
          "output_type": "stream",
          "name": "stdout",
          "text": [
            "50  selecionados\n"
          ]
        },
        {
          "output_type": "execute_result",
          "data": {
            "text/plain": [
              "              Sequencia'  Pontuacao     TM     CG   AG  \\\n",
              "0  AUAGGGAAGUAAAAAAACAAA          9   5.40  23.81 -7.3   \n",
              "1  CCACUCGCGUGUUCCCCAAGC          9  15.65  66.67 -7.1   \n",
              "2  GAGCCGAGUUCCUUCAACAUG          8  10.53  52.38 -9.4   \n",
              "3  GCGCGCCCUUUGAGCAGAACC          8  20.78  66.67 -9.6   \n",
              "4  CGAGGCCGCCAGACCUACACC          8  20.78  71.43 -7.3   \n",
              "5  ACCGGCGCAUGAAGUGGAAAA          8  20.78  52.38 -7.3   \n",
              "6  GAAAGGGAGAGGAAGAGAAGC          8   5.40  52.38 -7.7   \n",
              "7  GGAGCCCCAAAACCUACCACU          8  15.65  57.14 -9.6   \n",
              "8  GGACUCUAAUUCUGUAAUAUA          7   0.28  28.57 -2.7   \n",
              "9  GUCCCUGCCUACAAAUCAUCC          7  15.65  52.38 -7.2   \n",
              "\n",
              "                          Falhas    posicao  \n",
              "0                             []    842:863  \n",
              "1                             []  1240:1261  \n",
              "2                   [position 3]    339:360  \n",
              "3                   [position 3]    364:385  \n",
              "4                  [position 10]    513:534  \n",
              "5                   [position 3]    658:679  \n",
              "6                  [position 10]    785:806  \n",
              "7                  [position 10]  1224:1245  \n",
              "8                  [free energy]      17:38  \n",
              "9  [position 19!= A, position 3]      69:90  "
            ],
            "text/html": [
              "\n",
              "  <div id=\"df-f84c060f-067e-4b42-8cc6-e7e6933836f2\" class=\"colab-df-container\">\n",
              "    <div>\n",
              "<style scoped>\n",
              "    .dataframe tbody tr th:only-of-type {\n",
              "        vertical-align: middle;\n",
              "    }\n",
              "\n",
              "    .dataframe tbody tr th {\n",
              "        vertical-align: top;\n",
              "    }\n",
              "\n",
              "    .dataframe thead th {\n",
              "        text-align: right;\n",
              "    }\n",
              "</style>\n",
              "<table border=\"1\" class=\"dataframe\">\n",
              "  <thead>\n",
              "    <tr style=\"text-align: right;\">\n",
              "      <th></th>\n",
              "      <th>Sequencia'</th>\n",
              "      <th>Pontuacao</th>\n",
              "      <th>TM</th>\n",
              "      <th>CG</th>\n",
              "      <th>AG</th>\n",
              "      <th>Falhas</th>\n",
              "      <th>posicao</th>\n",
              "    </tr>\n",
              "  </thead>\n",
              "  <tbody>\n",
              "    <tr>\n",
              "      <th>0</th>\n",
              "      <td>AUAGGGAAGUAAAAAAACAAA</td>\n",
              "      <td>9</td>\n",
              "      <td>5.40</td>\n",
              "      <td>23.81</td>\n",
              "      <td>-7.3</td>\n",
              "      <td>[]</td>\n",
              "      <td>842:863</td>\n",
              "    </tr>\n",
              "    <tr>\n",
              "      <th>1</th>\n",
              "      <td>CCACUCGCGUGUUCCCCAAGC</td>\n",
              "      <td>9</td>\n",
              "      <td>15.65</td>\n",
              "      <td>66.67</td>\n",
              "      <td>-7.1</td>\n",
              "      <td>[]</td>\n",
              "      <td>1240:1261</td>\n",
              "    </tr>\n",
              "    <tr>\n",
              "      <th>2</th>\n",
              "      <td>GAGCCGAGUUCCUUCAACAUG</td>\n",
              "      <td>8</td>\n",
              "      <td>10.53</td>\n",
              "      <td>52.38</td>\n",
              "      <td>-9.4</td>\n",
              "      <td>[position 3]</td>\n",
              "      <td>339:360</td>\n",
              "    </tr>\n",
              "    <tr>\n",
              "      <th>3</th>\n",
              "      <td>GCGCGCCCUUUGAGCAGAACC</td>\n",
              "      <td>8</td>\n",
              "      <td>20.78</td>\n",
              "      <td>66.67</td>\n",
              "      <td>-9.6</td>\n",
              "      <td>[position 3]</td>\n",
              "      <td>364:385</td>\n",
              "    </tr>\n",
              "    <tr>\n",
              "      <th>4</th>\n",
              "      <td>CGAGGCCGCCAGACCUACACC</td>\n",
              "      <td>8</td>\n",
              "      <td>20.78</td>\n",
              "      <td>71.43</td>\n",
              "      <td>-7.3</td>\n",
              "      <td>[position 10]</td>\n",
              "      <td>513:534</td>\n",
              "    </tr>\n",
              "    <tr>\n",
              "      <th>5</th>\n",
              "      <td>ACCGGCGCAUGAAGUGGAAAA</td>\n",
              "      <td>8</td>\n",
              "      <td>20.78</td>\n",
              "      <td>52.38</td>\n",
              "      <td>-7.3</td>\n",
              "      <td>[position 3]</td>\n",
              "      <td>658:679</td>\n",
              "    </tr>\n",
              "    <tr>\n",
              "      <th>6</th>\n",
              "      <td>GAAAGGGAGAGGAAGAGAAGC</td>\n",
              "      <td>8</td>\n",
              "      <td>5.40</td>\n",
              "      <td>52.38</td>\n",
              "      <td>-7.7</td>\n",
              "      <td>[position 10]</td>\n",
              "      <td>785:806</td>\n",
              "    </tr>\n",
              "    <tr>\n",
              "      <th>7</th>\n",
              "      <td>GGAGCCCCAAAACCUACCACU</td>\n",
              "      <td>8</td>\n",
              "      <td>15.65</td>\n",
              "      <td>57.14</td>\n",
              "      <td>-9.6</td>\n",
              "      <td>[position 10]</td>\n",
              "      <td>1224:1245</td>\n",
              "    </tr>\n",
              "    <tr>\n",
              "      <th>8</th>\n",
              "      <td>GGACUCUAAUUCUGUAAUAUA</td>\n",
              "      <td>7</td>\n",
              "      <td>0.28</td>\n",
              "      <td>28.57</td>\n",
              "      <td>-2.7</td>\n",
              "      <td>[free energy]</td>\n",
              "      <td>17:38</td>\n",
              "    </tr>\n",
              "    <tr>\n",
              "      <th>9</th>\n",
              "      <td>GUCCCUGCCUACAAAUCAUCC</td>\n",
              "      <td>7</td>\n",
              "      <td>15.65</td>\n",
              "      <td>52.38</td>\n",
              "      <td>-7.2</td>\n",
              "      <td>[position 19!= A, position 3]</td>\n",
              "      <td>69:90</td>\n",
              "    </tr>\n",
              "  </tbody>\n",
              "</table>\n",
              "</div>\n",
              "    <div class=\"colab-df-buttons\">\n",
              "\n",
              "  <div class=\"colab-df-container\">\n",
              "    <button class=\"colab-df-convert\" onclick=\"convertToInteractive('df-f84c060f-067e-4b42-8cc6-e7e6933836f2')\"\n",
              "            title=\"Convert this dataframe to an interactive table.\"\n",
              "            style=\"display:none;\">\n",
              "\n",
              "  <svg xmlns=\"http://www.w3.org/2000/svg\" height=\"24px\" viewBox=\"0 -960 960 960\">\n",
              "    <path d=\"M120-120v-720h720v720H120Zm60-500h600v-160H180v160Zm220 220h160v-160H400v160Zm0 220h160v-160H400v160ZM180-400h160v-160H180v160Zm440 0h160v-160H620v160ZM180-180h160v-160H180v160Zm440 0h160v-160H620v160Z\"/>\n",
              "  </svg>\n",
              "    </button>\n",
              "\n",
              "  <style>\n",
              "    .colab-df-container {\n",
              "      display:flex;\n",
              "      gap: 12px;\n",
              "    }\n",
              "\n",
              "    .colab-df-convert {\n",
              "      background-color: #E8F0FE;\n",
              "      border: none;\n",
              "      border-radius: 50%;\n",
              "      cursor: pointer;\n",
              "      display: none;\n",
              "      fill: #1967D2;\n",
              "      height: 32px;\n",
              "      padding: 0 0 0 0;\n",
              "      width: 32px;\n",
              "    }\n",
              "\n",
              "    .colab-df-convert:hover {\n",
              "      background-color: #E2EBFA;\n",
              "      box-shadow: 0px 1px 2px rgba(60, 64, 67, 0.3), 0px 1px 3px 1px rgba(60, 64, 67, 0.15);\n",
              "      fill: #174EA6;\n",
              "    }\n",
              "\n",
              "    .colab-df-buttons div {\n",
              "      margin-bottom: 4px;\n",
              "    }\n",
              "\n",
              "    [theme=dark] .colab-df-convert {\n",
              "      background-color: #3B4455;\n",
              "      fill: #D2E3FC;\n",
              "    }\n",
              "\n",
              "    [theme=dark] .colab-df-convert:hover {\n",
              "      background-color: #434B5C;\n",
              "      box-shadow: 0px 1px 3px 1px rgba(0, 0, 0, 0.15);\n",
              "      filter: drop-shadow(0px 1px 2px rgba(0, 0, 0, 0.3));\n",
              "      fill: #FFFFFF;\n",
              "    }\n",
              "  </style>\n",
              "\n",
              "    <script>\n",
              "      const buttonEl =\n",
              "        document.querySelector('#df-f84c060f-067e-4b42-8cc6-e7e6933836f2 button.colab-df-convert');\n",
              "      buttonEl.style.display =\n",
              "        google.colab.kernel.accessAllowed ? 'block' : 'none';\n",
              "\n",
              "      async function convertToInteractive(key) {\n",
              "        const element = document.querySelector('#df-f84c060f-067e-4b42-8cc6-e7e6933836f2');\n",
              "        const dataTable =\n",
              "          await google.colab.kernel.invokeFunction('convertToInteractive',\n",
              "                                                    [key], {});\n",
              "        if (!dataTable) return;\n",
              "\n",
              "        const docLinkHtml = 'Like what you see? Visit the ' +\n",
              "          '<a target=\"_blank\" href=https://colab.research.google.com/notebooks/data_table.ipynb>data table notebook</a>'\n",
              "          + ' to learn more about interactive tables.';\n",
              "        element.innerHTML = '';\n",
              "        dataTable['output_type'] = 'display_data';\n",
              "        await google.colab.output.renderOutput(dataTable, element);\n",
              "        const docLink = document.createElement('div');\n",
              "        docLink.innerHTML = docLinkHtml;\n",
              "        element.appendChild(docLink);\n",
              "      }\n",
              "    </script>\n",
              "  </div>\n",
              "\n",
              "\n",
              "<div id=\"df-24c62b1b-6231-4c05-b53f-35b0c6f1c795\">\n",
              "  <button class=\"colab-df-quickchart\" onclick=\"quickchart('df-24c62b1b-6231-4c05-b53f-35b0c6f1c795')\"\n",
              "            title=\"Suggest charts\"\n",
              "            style=\"display:none;\">\n",
              "\n",
              "<svg xmlns=\"http://www.w3.org/2000/svg\" height=\"24px\"viewBox=\"0 0 24 24\"\n",
              "     width=\"24px\">\n",
              "    <g>\n",
              "        <path d=\"M19 3H5c-1.1 0-2 .9-2 2v14c0 1.1.9 2 2 2h14c1.1 0 2-.9 2-2V5c0-1.1-.9-2-2-2zM9 17H7v-7h2v7zm4 0h-2V7h2v10zm4 0h-2v-4h2v4z\"/>\n",
              "    </g>\n",
              "</svg>\n",
              "  </button>\n",
              "\n",
              "<style>\n",
              "  .colab-df-quickchart {\n",
              "      --bg-color: #E8F0FE;\n",
              "      --fill-color: #1967D2;\n",
              "      --hover-bg-color: #E2EBFA;\n",
              "      --hover-fill-color: #174EA6;\n",
              "      --disabled-fill-color: #AAA;\n",
              "      --disabled-bg-color: #DDD;\n",
              "  }\n",
              "\n",
              "  [theme=dark] .colab-df-quickchart {\n",
              "      --bg-color: #3B4455;\n",
              "      --fill-color: #D2E3FC;\n",
              "      --hover-bg-color: #434B5C;\n",
              "      --hover-fill-color: #FFFFFF;\n",
              "      --disabled-bg-color: #3B4455;\n",
              "      --disabled-fill-color: #666;\n",
              "  }\n",
              "\n",
              "  .colab-df-quickchart {\n",
              "    background-color: var(--bg-color);\n",
              "    border: none;\n",
              "    border-radius: 50%;\n",
              "    cursor: pointer;\n",
              "    display: none;\n",
              "    fill: var(--fill-color);\n",
              "    height: 32px;\n",
              "    padding: 0;\n",
              "    width: 32px;\n",
              "  }\n",
              "\n",
              "  .colab-df-quickchart:hover {\n",
              "    background-color: var(--hover-bg-color);\n",
              "    box-shadow: 0 1px 2px rgba(60, 64, 67, 0.3), 0 1px 3px 1px rgba(60, 64, 67, 0.15);\n",
              "    fill: var(--button-hover-fill-color);\n",
              "  }\n",
              "\n",
              "  .colab-df-quickchart-complete:disabled,\n",
              "  .colab-df-quickchart-complete:disabled:hover {\n",
              "    background-color: var(--disabled-bg-color);\n",
              "    fill: var(--disabled-fill-color);\n",
              "    box-shadow: none;\n",
              "  }\n",
              "\n",
              "  .colab-df-spinner {\n",
              "    border: 2px solid var(--fill-color);\n",
              "    border-color: transparent;\n",
              "    border-bottom-color: var(--fill-color);\n",
              "    animation:\n",
              "      spin 1s steps(1) infinite;\n",
              "  }\n",
              "\n",
              "  @keyframes spin {\n",
              "    0% {\n",
              "      border-color: transparent;\n",
              "      border-bottom-color: var(--fill-color);\n",
              "      border-left-color: var(--fill-color);\n",
              "    }\n",
              "    20% {\n",
              "      border-color: transparent;\n",
              "      border-left-color: var(--fill-color);\n",
              "      border-top-color: var(--fill-color);\n",
              "    }\n",
              "    30% {\n",
              "      border-color: transparent;\n",
              "      border-left-color: var(--fill-color);\n",
              "      border-top-color: var(--fill-color);\n",
              "      border-right-color: var(--fill-color);\n",
              "    }\n",
              "    40% {\n",
              "      border-color: transparent;\n",
              "      border-right-color: var(--fill-color);\n",
              "      border-top-color: var(--fill-color);\n",
              "    }\n",
              "    60% {\n",
              "      border-color: transparent;\n",
              "      border-right-color: var(--fill-color);\n",
              "    }\n",
              "    80% {\n",
              "      border-color: transparent;\n",
              "      border-right-color: var(--fill-color);\n",
              "      border-bottom-color: var(--fill-color);\n",
              "    }\n",
              "    90% {\n",
              "      border-color: transparent;\n",
              "      border-bottom-color: var(--fill-color);\n",
              "    }\n",
              "  }\n",
              "</style>\n",
              "\n",
              "  <script>\n",
              "    async function quickchart(key) {\n",
              "      const quickchartButtonEl =\n",
              "        document.querySelector('#' + key + ' button');\n",
              "      quickchartButtonEl.disabled = true;  // To prevent multiple clicks.\n",
              "      quickchartButtonEl.classList.add('colab-df-spinner');\n",
              "      try {\n",
              "        const charts = await google.colab.kernel.invokeFunction(\n",
              "            'suggestCharts', [key], {});\n",
              "      } catch (error) {\n",
              "        console.error('Error during call to suggestCharts:', error);\n",
              "      }\n",
              "      quickchartButtonEl.classList.remove('colab-df-spinner');\n",
              "      quickchartButtonEl.classList.add('colab-df-quickchart-complete');\n",
              "    }\n",
              "    (() => {\n",
              "      let quickchartButtonEl =\n",
              "        document.querySelector('#df-24c62b1b-6231-4c05-b53f-35b0c6f1c795 button');\n",
              "      quickchartButtonEl.style.display =\n",
              "        google.colab.kernel.accessAllowed ? 'block' : 'none';\n",
              "    })();\n",
              "  </script>\n",
              "</div>\n",
              "\n",
              "    </div>\n",
              "  </div>\n"
            ],
            "application/vnd.google.colaboratory.intrinsic+json": {
              "type": "dataframe",
              "variable_name": "df",
              "summary": "{\n  \"name\": \"df\",\n  \"rows\": 50,\n  \"fields\": [\n    {\n      \"column\": \"Sequencia'\",\n      \"properties\": {\n        \"dtype\": \"string\",\n        \"num_unique_values\": 50,\n        \"samples\": [\n          \"AGAGCGCGGCCGGCGUCUACG\",\n          \"AGCCCCAUGCUCCCUUUUACA\",\n          \"AAGACAGGGCUGAAGCAGAGG\"\n        ],\n        \"semantic_type\": \"\",\n        \"description\": \"\"\n      }\n    },\n    {\n      \"column\": \"Pontuacao\",\n      \"properties\": {\n        \"dtype\": \"number\",\n        \"std\": 0,\n        \"min\": 6,\n        \"max\": 9,\n        \"num_unique_values\": 4,\n        \"samples\": [\n          8,\n          6,\n          9\n        ],\n        \"semantic_type\": \"\",\n        \"description\": \"\"\n      }\n    },\n    {\n      \"column\": \"TM\",\n      \"properties\": {\n        \"dtype\": \"number\",\n        \"std\": 6.789367524869687,\n        \"min\": 0.28,\n        \"max\": 20.78,\n        \"num_unique_values\": 5,\n        \"samples\": [\n          15.65,\n          0.28,\n          10.53\n        ],\n        \"semantic_type\": \"\",\n        \"description\": \"\"\n      }\n    },\n    {\n      \"column\": \"CG\",\n      \"properties\": {\n        \"dtype\": \"number\",\n        \"std\": 17.22083915090158,\n        \"min\": 23.81,\n        \"max\": 80.95,\n        \"num_unique_values\": 9,\n        \"samples\": [\n          61.9,\n          66.67,\n          28.57\n        ],\n        \"semantic_type\": \"\",\n        \"description\": \"\"\n      }\n    },\n    {\n      \"column\": \"AG\",\n      \"properties\": {\n        \"dtype\": \"number\",\n        \"std\": 3.1328157772006877,\n        \"min\": -12.9,\n        \"max\": 0.9,\n        \"num_unique_values\": 34,\n        \"samples\": [\n          -11.8,\n          -7.5,\n          -4.0\n        ],\n        \"semantic_type\": \"\",\n        \"description\": \"\"\n      }\n    },\n    {\n      \"column\": \"Falhas\",\n      \"properties\": {\n        \"dtype\": \"object\",\n        \"semantic_type\": \"\",\n        \"description\": \"\"\n      }\n    },\n    {\n      \"column\": \"posicao\",\n      \"properties\": {\n        \"dtype\": \"string\",\n        \"num_unique_values\": 50,\n        \"samples\": [\n          \"301:322\",\n          \"1293:1314\",\n          \"715:736\"\n        ],\n        \"semantic_type\": \"\",\n        \"description\": \"\"\n      }\n    }\n  ]\n}"
            }
          },
          "metadata": {},
          "execution_count": 19
        }
      ],
      "source": [
        "# @markdown ---\n",
        "# @markdown ### **Insira os valores para cada parâmetros de funcionalidade**\n",
        "identidades = 0.6 # @param {type:\"number\"}\n",
        "autores = 'reynolds' # @param [\"reynolds\", \"ui-tei\", \"amarzguioui\"]\n",
        "temperatura_de_melting_maxima = 21.5 # @param {type:\"number\"}\n",
        "Tamanho = 21 # @param {type:\"integer\"} { run: \"auto\" }\n",
        "\n",
        "Tamanho_1 = Tamanho-1\n",
        "\n",
        "a = transcrever(sequencias)\n",
        "name = a[1]\n",
        "sequencia_convertida = a[0]\n",
        "candidates, tuplas = possiveis_siRNA(sequencia_convertida, tamanho=Tamanho)\n",
        "\n",
        "df, siRNA_verificados = filtro_siRNA(candidates, conformidade= identidades, tuplas=tuplas,\n",
        "                      autor=autores,\n",
        "                      tm=True,\n",
        "                      tmmax = temperatura_de_melting_maxima)\n",
        "\n",
        "df = pd.json_normalize(df)\n",
        "print(len(df),\" selecionados\")\n",
        "df.head(10)"
      ]
    }
  ],
  "metadata": {
    "colab": {
      "collapsed_sections": [
        "THjR_hD19Jmv",
        "HR_j5vxB6CXd",
        "oSClBWUW7VLh",
        "IaEvHC67-l99",
        "u6JxAWDj-ByQ",
        "STOIJCNMl_4M"
      ],
      "provenance": [],
      "authorship_tag": "ABX9TyOA/siyAPOPL1BB9irzC942",
      "include_colab_link": true
    },
    "kernelspec": {
      "display_name": "Python 3",
      "name": "python3"
    },
    "language_info": {
      "name": "python"
    }
  },
  "nbformat": 4,
  "nbformat_minor": 0
}